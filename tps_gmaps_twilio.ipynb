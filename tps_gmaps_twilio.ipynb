{
 "cells": [
  {
   "cell_type": "code",
   "execution_count": 31,
   "metadata": {
    "collapsed": true
   },
   "outputs": [],
   "source": [
    "import pandas as pd"
   ]
  },
  {
   "cell_type": "code",
   "execution_count": 32,
   "metadata": {
    "collapsed": true
   },
   "outputs": [],
   "source": [
    "import googlemaps"
   ]
  },
  {
   "cell_type": "code",
   "execution_count": 58,
   "metadata": {
    "collapsed": true
   },
   "outputs": [],
   "source": [
    "allway_points = [\"Yosemite Valley Visitor Center, Village Drive, Yosemite Valley, CA\",\n",
    "                 \"Death Valley National Park, Furnace Creek, Inyo County, California\",\n",
    "                 \"Kohm Yah-mah-nee Visitor Center, Lassen Peak Highway, Mineral, CA\",\n",
    "                 \"Redwood National and State Parks Visitor Center, U.S. 199, Crescent City, CA\",\n",
    "                 \"Pinnacles Visitor Center, California 146, Paicines, CA\",\n",
    "                 \"Mount Rainier National Park Headquarters, 238th Avenue East, Ashford, WA\",\n",
    "                 \"Glacier National Park Headquarters, Grinnell Drive, West Glacier, MT\",\n",
    "                 \"Yellowstone National Park Headquarters, Yellowstone National Park, WY\",\n",
    "                 \"Rocky Mountain National Park Grand Lake Entrance, Trail Ridge Road, Grand Lake, CO\",\n",
    "                 \"Zion National Park South Entrance Ranger Station, Springdale, UT\",\n",
    "                 \"Grand Canyon North Rim Lodge, Arizona 67, North Rim, AZ\",\n",
    "                 \"Bryce Canyon National Park Visitor Center, Utah 63, Bryce, UT\",\n",
    "                 \"Shenandoah National Park Headquarters, Luray, VA\",\n",
    "                 \"Shenandoah National Park, Virginia\",\n",
    "                 \"Carlsbad Caverns National Park Visitor Center, Carlsbad Cavern Highway, Carlsbad, New Mexico\",\n",
    "                 \"Grand Teton National Park Headquarters, Moose, WY\"]"
   ]
  },
  {
   "cell_type": "code",
   "execution_count": 59,
   "metadata": {
    "collapsed": false
   },
   "outputs": [],
   "source": [
    "gmaps = googlemaps.Client(key=\"xxxxxxx\")"
   ]
  },
  {
   "cell_type": "code",
   "execution_count": 60,
   "metadata": {
    "collapsed": false
   },
   "outputs": [],
   "source": [
    "from itertools import combinations\n",
    "waypoint_distances={}\n",
    "waypoint_durations={}\n",
    "for (waypoint1,waypoint2) in combinations(allway_points,2):\n",
    "    route= gmaps.distance_matrix(origins=[waypoint1],\n",
    "                                 destinations=[waypoint2],\n",
    "                                 mode=\"driving\",\n",
    "                                 language=\"English\",\n",
    "                                 units=\"metric\")\n",
    "    distance = route[\"rows\"][0][\"elements\"][0][\"distance\"][\"value\"]\n",
    "    duration = route[\"rows\"][0][\"elements\"][0][\"duration\"][\"value\"]\n",
    "    \n",
    "    waypoint_distances[frozenset([waypoint1,waypoint2])] = distance\n",
    "    waypoint_durations[frozenset([waypoint1,waypoint2])] = duration\n",
    "    "
   ]
  },
  {
   "cell_type": "code",
   "execution_count": 61,
   "metadata": {
    "collapsed": false
   },
   "outputs": [
    {
     "name": "stdout",
     "output_type": "stream",
     "text": [
      "61166\n"
     ]
    }
   ],
   "source": [
    "print route[\"rows\"][0][\"elements\"][0][\"duration\"][\"value\"]"
   ]
  },
  {
   "cell_type": "code",
   "execution_count": 62,
   "metadata": {
    "collapsed": false
   },
   "outputs": [],
   "source": [
    "with open(\"loc_dist_dur.csv\",\"w\") as out_file:\n",
    "    out_file.write(\"\\t\".join([\"waypoint1\",\"waypoint2\",\"distance\",\"duration\"]))\n",
    "    \n",
    "    for (waypoint1,waypoint2) in waypoint_distances.keys():\n",
    "        out_file.write(\"\\n\"+\n",
    "                       \"\\t\".join([waypoint1,waypoint2,str(waypoint_distances[frozenset([waypoint1,waypoint2])]),str(waypoint_durations[frozenset([waypoint1,waypoint2])])]))"
   ]
  },
  {
   "cell_type": "code",
   "execution_count": 63,
   "metadata": {
    "collapsed": false
   },
   "outputs": [],
   "source": [
    "all_waypoints = set()\n",
    "waypoint_distances={}\n",
    "waypoint_durations={}\n",
    "waypoint_data = pd.read_csv(\"loc_dist_dur.csv\",sep=\"\\t\")"
   ]
  },
  {
   "cell_type": "code",
   "execution_count": 64,
   "metadata": {
    "collapsed": false
   },
   "outputs": [
    {
     "data": {
      "text/html": [
       "<div>\n",
       "<table border=\"1\" class=\"dataframe\">\n",
       "  <thead>\n",
       "    <tr style=\"text-align: right;\">\n",
       "      <th></th>\n",
       "      <th>waypoint1</th>\n",
       "      <th>waypoint2</th>\n",
       "      <th>distance</th>\n",
       "      <th>duration</th>\n",
       "    </tr>\n",
       "  </thead>\n",
       "  <tbody>\n",
       "    <tr>\n",
       "      <th>0</th>\n",
       "      <td>Shenandoah National Park, Virginia</td>\n",
       "      <td>Yosemite Valley Visitor Center, Village Drive,...</td>\n",
       "      <td>4217636</td>\n",
       "      <td>141372</td>\n",
       "    </tr>\n",
       "    <tr>\n",
       "      <th>1</th>\n",
       "      <td>Carlsbad Caverns National Park Visitor Center,...</td>\n",
       "      <td>Redwood National and State Parks Visitor Cente...</td>\n",
       "      <td>2711579</td>\n",
       "      <td>91021</td>\n",
       "    </tr>\n",
       "    <tr>\n",
       "      <th>2</th>\n",
       "      <td>Mount Rainier National Park Headquarters, 238t...</td>\n",
       "      <td>Yellowstone National Park Headquarters, Yellow...</td>\n",
       "      <td>1257768</td>\n",
       "      <td>45065</td>\n",
       "    </tr>\n",
       "    <tr>\n",
       "      <th>3</th>\n",
       "      <td>Grand Teton National Park Headquarters, Moose, WY</td>\n",
       "      <td>Yellowstone National Park Headquarters, Yellow...</td>\n",
       "      <td>217608</td>\n",
       "      <td>11921</td>\n",
       "    </tr>\n",
       "    <tr>\n",
       "      <th>4</th>\n",
       "      <td>Kohm Yah-mah-nee Visitor Center, Lassen Peak H...</td>\n",
       "      <td>Yellowstone National Park Headquarters, Yellow...</td>\n",
       "      <td>1469950</td>\n",
       "      <td>52296</td>\n",
       "    </tr>\n",
       "  </tbody>\n",
       "</table>\n",
       "</div>"
      ],
      "text/plain": [
       "                                           waypoint1  \\\n",
       "0                 Shenandoah National Park, Virginia   \n",
       "1  Carlsbad Caverns National Park Visitor Center,...   \n",
       "2  Mount Rainier National Park Headquarters, 238t...   \n",
       "3  Grand Teton National Park Headquarters, Moose, WY   \n",
       "4  Kohm Yah-mah-nee Visitor Center, Lassen Peak H...   \n",
       "\n",
       "                                           waypoint2  distance  duration  \n",
       "0  Yosemite Valley Visitor Center, Village Drive,...   4217636    141372  \n",
       "1  Redwood National and State Parks Visitor Cente...   2711579     91021  \n",
       "2  Yellowstone National Park Headquarters, Yellow...   1257768     45065  \n",
       "3  Yellowstone National Park Headquarters, Yellow...    217608     11921  \n",
       "4  Yellowstone National Park Headquarters, Yellow...   1469950     52296  "
      ]
     },
     "execution_count": 64,
     "metadata": {},
     "output_type": "execute_result"
    }
   ],
   "source": [
    "waypoint_data.head()"
   ]
  },
  {
   "cell_type": "code",
   "execution_count": 65,
   "metadata": {
    "collapsed": true
   },
   "outputs": [],
   "source": [
    "for i,row in waypoint_data.iterrows():\n",
    "    waypoint_distances[frozenset([row.waypoint1,row.waypoint2])]=row.distance\n",
    "    waypoint_durations[frozenset([row.waypoint1,row.waypoint2])]=row.duration\n",
    "    all_waypoints.update([row.waypoint1,row.waypoint2])"
   ]
  },
  {
   "cell_type": "code",
   "execution_count": 66,
   "metadata": {
    "collapsed": true
   },
   "outputs": [],
   "source": [
    "import random"
   ]
  },
  {
   "cell_type": "code",
   "execution_count": null,
   "metadata": {
    "collapsed": true
   },
   "outputs": [],
   "source": []
  },
  {
   "cell_type": "code",
   "execution_count": null,
   "metadata": {
    "collapsed": true
   },
   "outputs": [],
   "source": []
  },
  {
   "cell_type": "code",
   "execution_count": null,
   "metadata": {
    "collapsed": true
   },
   "outputs": [],
   "source": []
  },
  {
   "cell_type": "code",
   "execution_count": null,
   "metadata": {
    "collapsed": true
   },
   "outputs": [],
   "source": []
  },
  {
   "cell_type": "code",
   "execution_count": 67,
   "metadata": {
    "collapsed": true
   },
   "outputs": [],
   "source": [
    "def compute_fitness(agent_gnome):\n",
    "    fitness =0.0\n",
    "    for index in range(len(agent_gnome)):\n",
    "        fitness += waypoint_distances[frozenset([agent_gnome[index-1],agent_gnome[index]])]\n",
    "    return fitness\n",
    "        \n",
    "\n",
    "def generate_random_agent():\n",
    "    random_agent = list(all_waypoints)\n",
    "    random.shuffle(random_agent)\n",
    "    return tuple(random_agent)\n",
    "\n",
    "def generate_random_population(population_size):\n",
    "    random_population=[]\n",
    "    for i in range(population_size):\n",
    "        random_population.append(generate_random_agent())\n",
    "    return random_population\n",
    "\n",
    "def mutate(agent_gnome,number_of_swaps):\n",
    "    agent_gnome = list(agent_gnome)\n",
    "    number_swap = random.randint(0,number_of_swaps)\n",
    "    \n",
    "    for swap in range(number_swap):\n",
    "        swap_index1 = random.randint(0,len(agent_gnome)-1)\n",
    "        swap_index2 = swap_index1\n",
    "        while swap_index2 == swap_index1:\n",
    "            swap_index2 = random.randint(0,len(agent_gnome)-1)\n",
    "        agent_gnome[swap_index1],agent_gnome[swap_index2] = agent_gnome[swap_index2],agent_gnome[swap_index1]\n",
    "        \n",
    "    return tuple(agent_gnome)\n",
    "\n",
    "def shuffle_mutate(agent_gnome):\n",
    "    agent_gnome = list(agent_gnome)\n",
    "    \n",
    "    start_index = random.randint(0,len(agent_gnome)-1)\n",
    "    length = random.randint(2,10)\n",
    "    \n",
    "    genome_subset = agent_gnome[start_index:start_index + length]\n",
    "    agent_genome = agent_gnome[:start_index] + agent_gnome[start_index + length:]\n",
    "    \n",
    "    insert_index = random.randint(0, len(agent_gnome) + len(genome_subset) - 1)\n",
    "    agent_gnome = agent_gnome[:insert_index] + genome_subset + agent_gnome[insert_index:]\n",
    "    \n",
    "    return tuple(agent_gnome)\n",
    "    \n",
    "    \n",
    "        \n",
    "\n"
   ]
  },
  {
   "cell_type": "code",
   "execution_count": 68,
   "metadata": {
    "collapsed": true
   },
   "outputs": [],
   "source": [
    "population=[]\n",
    "def genetic_algorithm(generations=5000,population_size=1000):\n",
    "    population_subset_size = int (population_size/10)\n",
    "    population = generate_random_population(population_size)\n",
    "    for generation in range(generations):\n",
    "        population_fitness={}\n",
    "        for agent_gnome in population:\n",
    "            if agent_gnome in population_fitness:\n",
    "                continue\n",
    "            population_fitness[agent_gnome]=compute_fitness(agent_gnome)\n",
    "        new_population = []\n",
    "        for rank,agent_gnome in enumerate(sorted(population_fitness,key=population_fitness.get)[:population_subset_size]):\n",
    "            new_population.append(agent_gnome)\n",
    "            \n",
    "            for i  in range(2):\n",
    "                new_population.append(mutate(agent_gnome,3))\n",
    "            for i in range(7):\n",
    "                new_population.append(shuffle_mutate(agent_gnome))\n",
    "                \n",
    "        for i in range(len(population))[::-1]:\n",
    "            del population[i]\n",
    "        \n",
    "        population = new_population\n",
    "            \n",
    "              \n",
    "    "
   ]
  },
  {
   "cell_type": "code",
   "execution_count": 1,
   "metadata": {
    "collapsed": false
   },
   "outputs": [],
   "source": [
    "population_fitness = []\n",
    "#population_fitness = genetic_algorithm(5000,1000)"
   ]
  },
  {
   "cell_type": "code",
   "execution_count": 86,
   "metadata": {
    "collapsed": false
   },
   "outputs": [],
   "source": []
  },
  {
   "cell_type": "code",
   "execution_count": null,
   "metadata": {
    "collapsed": true
   },
   "outputs": [],
   "source": []
  },
  {
   "cell_type": "code",
   "execution_count": null,
   "metadata": {
    "collapsed": true
   },
   "outputs": [],
   "source": []
  },
  {
   "cell_type": "code",
   "execution_count": null,
   "metadata": {
    "collapsed": true
   },
   "outputs": [],
   "source": []
  }
 ],
 "metadata": {
  "anaconda-cloud": {},
  "kernelspec": {
   "display_name": "Python 3",
   "language": "python",
   "name": "python3"
  },
  "language_info": {
   "codemirror_mode": {
    "name": "ipython",
    "version": 3
   },
   "file_extension": ".py",
   "mimetype": "text/x-python",
   "name": "python",
   "nbconvert_exporter": "python",
   "pygments_lexer": "ipython3",
   "version": "3.6.0"
  }
 },
 "nbformat": 4,
 "nbformat_minor": 2
}
